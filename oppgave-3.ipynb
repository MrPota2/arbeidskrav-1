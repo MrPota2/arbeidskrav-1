{
 "cells": [
  {
   "metadata": {},
   "cell_type": "markdown",
   "source": "## Oppgave 3.1",
   "id": "4a39e3999d190916"
  },
  {
   "metadata": {
    "collapsed": true,
    "ExecuteTime": {
     "end_time": "2025-09-12T20:08:10.550Z",
     "start_time": "2025-09-12T20:08:06.593835Z"
    }
   },
   "cell_type": "code",
   "source": [
    "ip_input = input(\"Please enter IPv4 IP-address: \")\n",
    "\n",
    "def ip_validator(ip_addr):\n",
    "    segments = ip_addr.split(\".\")\n",
    "\n",
    "    if len(segments) != 4:\n",
    "        return False\n",
    "\n",
    "    for segment in segments:\n",
    "        value = int(segment)\n",
    "\n",
    "        if not (0 <= value <= 255):\n",
    "            return False\n",
    "\n",
    "    return True\n",
    "\n",
    "print(ip_validator(ip_input))"
   ],
   "id": "51ed29ed7854e073",
   "outputs": [
    {
     "name": "stdout",
     "output_type": "stream",
     "text": [
      "False\n"
     ]
    }
   ],
   "execution_count": 15
  },
  {
   "metadata": {},
   "cell_type": "markdown",
   "source": "## Oppgave 3.2",
   "id": "a0db35cee0e29276"
  },
  {
   "metadata": {},
   "cell_type": "markdown",
   "source": [
    "##### NOTE: To give myself a challenge here, I decided not to use a datetime import as that would have made it easy, but to destructure it and calculate the difference.\n",
    "##### However I am not sadist, so I haven't taken the difference between 28-30-31 days per month into equation, but I hope it will be good enough to prove the exercise... GPT calculated accuracy to 98.6%... ;)"
   ],
   "id": "fa174c73150f875b"
  },
  {
   "metadata": {
    "ExecuteTime": {
     "end_time": "2025-09-13T08:24:37.880514Z",
     "start_time": "2025-09-13T08:24:23.454008Z"
    }
   },
   "cell_type": "code",
   "source": [
    "def date_checker(date_list: list[int]):\n",
    "    # Value check:\n",
    "\n",
    "    if not (1 <= date_list[0] <= 31 and 1 <= date_list[1] <= 12):\n",
    "        raise ValueError(\"ERROR: Invalid date format, ensure (dd/mm/yyyy)\")\n",
    "\n",
    "def time_difference_calculator(first_list: list[int], second_list: list[int]):\n",
    "    time_difference = 0\n",
    "\n",
    "    time_difference += first_list[0] - second_list[0] # Day\n",
    "    time_difference += (first_list[1] - second_list[1]) * 30 # Month\n",
    "    time_difference += (first_list[2] - second_list[2]) * 365 # Year\n",
    "\n",
    "    return abs(time_difference) # Drops the sign in case of negative number\n",
    "\n",
    "\n",
    "first_date = input(\"Skriv inn den første datoen\\n(dd/mm/yyyy): \")\n",
    "second_date = input(\"Skriv inn den andre datoen\\n(dd/mm/yyyy): \")\n",
    "\n",
    "first_date_list = [int(segment) for segment in first_date.split(\"/\")]\n",
    "second_date_list = [int(segment) for segment in second_date.split(\"/\")]\n",
    "\n",
    "try:\n",
    "    date_checker(first_date_list)\n",
    "    date_checker(second_date_list)\n",
    "except ValueError as e:\n",
    "    print(\"Wrong date format: \", e)\n",
    "\n",
    "else:\n",
    "    day_difference = time_difference_calculator(first_date_list, second_date_list)\n",
    "    print(f\"{day_difference} dager\")\n",
    "\n",
    "# TODO: Include a datetime version for accuracy?\n"
   ],
   "id": "a8525c65f788844c",
   "outputs": [
    {
     "name": "stdout",
     "output_type": "stream",
     "text": [
      "2089\n"
     ]
    }
   ],
   "execution_count": 4
  }
 ],
 "metadata": {
  "kernelspec": {
   "display_name": "Python 3",
   "language": "python",
   "name": "python3"
  },
  "language_info": {
   "codemirror_mode": {
    "name": "ipython",
    "version": 2
   },
   "file_extension": ".py",
   "mimetype": "text/x-python",
   "name": "python",
   "nbconvert_exporter": "python",
   "pygments_lexer": "ipython2",
   "version": "2.7.6"
  }
 },
 "nbformat": 4,
 "nbformat_minor": 5
}
