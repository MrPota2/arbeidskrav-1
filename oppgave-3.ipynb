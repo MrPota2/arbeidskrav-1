{
 "cells": [
  {
   "metadata": {},
   "cell_type": "markdown",
   "source": "## Oppgave 3.1",
   "id": "4a39e3999d190916"
  },
  {
   "metadata": {
    "collapsed": true,
    "ExecuteTime": {
     "end_time": "2025-09-12T20:08:10.550Z",
     "start_time": "2025-09-12T20:08:06.593835Z"
    }
   },
   "cell_type": "code",
   "source": [
    "ip_input = input(\"Please enter IPv4 IP-address: \")\n",
    "\n",
    "def ip_validator(ip_addr):\n",
    "    segments = ip_addr.split(\".\")\n",
    "\n",
    "    if len(segments) != 4:\n",
    "        return False\n",
    "\n",
    "    for segment in segments:\n",
    "        value = int(segment)\n",
    "\n",
    "        if not (0 <= value <= 255):\n",
    "            return False\n",
    "\n",
    "    return True\n",
    "\n",
    "print(ip_validator(ip_input))"
   ],
   "id": "51ed29ed7854e073",
   "outputs": [
    {
     "name": "stdout",
     "output_type": "stream",
     "text": [
      "False\n"
     ]
    }
   ],
   "execution_count": 15
  },
  {
   "metadata": {},
   "cell_type": "markdown",
   "source": "## Oppgave 3.2",
   "id": "a0db35cee0e29276"
  },
  {
   "metadata": {
    "ExecuteTime": {
     "end_time": "2025-09-12T20:27:32.902160Z",
     "start_time": "2025-09-12T20:27:29.345998Z"
    }
   },
   "cell_type": "code",
   "source": [
    "def date_checker(date_list: list[int]):\n",
    "    # Length check:\n",
    "    if not (len(date_list[0]) == 2 and len(date_list[1]) == 2 and len(date_list[1]) == 4):\n",
    "        raise ValueError(\"ERROR: Invalid date format, ensure (dd/mm/yyyy)\")\n",
    "\n",
    "    if not (1 <= date_list[0] <= 31 and 1 <= date_list[1] <= 12):\n",
    "        raise ValueError(\"ERROR: Invalid date format, ensure (dd/mm/yyyy)\")\n",
    "\n",
    "\n",
    "first_date = input(\"Skriv inn den første datoen\\n(dd/mm/yyyy): \")\n",
    "second_date = input(\"Skriv inn den andre datoen\\n(dd/mm/yyyy): \")"
   ],
   "id": "a8525c65f788844c",
   "outputs": [],
   "execution_count": 16
  }
 ],
 "metadata": {
  "kernelspec": {
   "display_name": "Python 3",
   "language": "python",
   "name": "python3"
  },
  "language_info": {
   "codemirror_mode": {
    "name": "ipython",
    "version": 2
   },
   "file_extension": ".py",
   "mimetype": "text/x-python",
   "name": "python",
   "nbconvert_exporter": "python",
   "pygments_lexer": "ipython2",
   "version": "2.7.6"
  }
 },
 "nbformat": 4,
 "nbformat_minor": 5
}
