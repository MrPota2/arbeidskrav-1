{
 "cells": [
  {
   "metadata": {},
   "cell_type": "markdown",
   "source": "## Oppgave 3.1",
   "id": "4a39e3999d190916"
  },
  {
   "metadata": {
    "collapsed": true
   },
   "cell_type": "code",
   "source": [
    "ip_input = input(\"Please enter IPv4 IP-address: \")\n",
    "\n",
    "def ip_validator(ip_addr) -> bool:\n",
    "    \"\"\"\n",
    "    Splits and validates user inputted IP-address.\n",
    "    Checks for:\n",
    "    - Num of segments\n",
    "    - Value of segments\n",
    "    :param ip_addr: User inputted IP-address\n",
    "    :return: Bool representation of validity of IP-address\n",
    "    \"\"\"\n",
    "    segments = ip_addr.split(\".\")\n",
    "\n",
    "    if len(segments) != 4:\n",
    "        return False\n",
    "\n",
    "    for segment in segments:\n",
    "        value = int(segment)\n",
    "\n",
    "        if not (0 <= value <= 255):\n",
    "            return False\n",
    "\n",
    "    return True\n",
    "\n",
    "print(ip_validator(ip_input))"
   ],
   "id": "51ed29ed7854e073",
   "outputs": [],
   "execution_count": null
  },
  {
   "metadata": {},
   "cell_type": "markdown",
   "source": [
    "## Oppgave 3.2\n",
    "##### NOTE: To give myself a challenge here, I decided not to use a datetime import as that would have made it easy, but to destructure it and calculate the difference.\n",
    "##### However I am not sadist, so I haven't taken the difference between 28-30-31 days per month into equation, but I hope it will be good enough to prove the exercise... GPT calculated accuracy to 98.6%... ;)\n"
   ],
   "id": "a0db35cee0e29276"
  },
  {
   "metadata": {},
   "cell_type": "code",
   "source": [
    "def date_checker(date_list: list[int]) -> bool:\n",
    "    \"\"\"\n",
    "    Simplified date value checker, manually validating date and month.\n",
    "    :param date_list: A split segment of a date\n",
    "    :return: Returns a bool value, where True = valid date\n",
    "    \"\"\"\n",
    "\n",
    "    if not (1 <= date_list[0] <= 31 and 1 <= date_list[1] <= 12):\n",
    "        raise ValueError(\"ERROR: Invalid date format, ensure (dd/mm/yyyy)\")\n",
    "\n",
    "def time_difference_calculator(first_list: list[int], second_list: list[int]) -> int:\n",
    "    \"\"\"\n",
    "    Takes two user-inputted dates (dd/mm/yyyy format) and returns the absolute difference between the two dates.\n",
    "    :param first_list: A list of date segments\n",
    "    :param second_list: A list of date segments\n",
    "    :return: Returns the amount of days between the two selected dates.\n",
    "    \"\"\"\n",
    "    time_difference = 0\n",
    "\n",
    "    time_difference += first_list[0] - second_list[0] # Day\n",
    "    time_difference += (first_list[1] - second_list[1]) * 30 # Month\n",
    "    time_difference += (first_list[2] - second_list[2]) * 365 # Year\n",
    "\n",
    "    return abs(time_difference) # Drops the sign in case of negative number\n",
    "\n",
    "\n",
    "first_date = input(\"Skriv inn den første datoen\\n(dd/mm/yyyy): \")\n",
    "second_date = input(\"Skriv inn den andre datoen\\n(dd/mm/yyyy): \")\n",
    "\n",
    "first_date_list = [int(segment) for segment in first_date.split(\"/\")]\n",
    "second_date_list = [int(segment) for segment in second_date.split(\"/\")]\n",
    "\n",
    "try:\n",
    "    date_checker(first_date_list)\n",
    "    date_checker(second_date_list)\n",
    "except ValueError as e:\n",
    "    print(\"Wrong date format: \", e)\n",
    "\n",
    "else:\n",
    "    day_difference = time_difference_calculator(first_date_list, second_date_list)\n",
    "    print(f\"{day_difference} dager\")\n",
    "\n",
    "# TODO: Include a datetime version for accuracy?\n"
   ],
   "id": "a8525c65f788844c",
   "outputs": [],
   "execution_count": null
  },
  {
   "metadata": {},
   "cell_type": "markdown",
   "source": [
    "## Oppgave 3.3\n",
    "##### Struggled mapping this task out, but researched the hex() function, and wanted to explore Format Specification Mini-Language and found out about the :x type representation on realpython.com, hence why they are incorporated"
   ],
   "id": "fe3f63a5a50d703a"
  },
  {
   "metadata": {},
   "cell_type": "code",
   "source": [
    "def rgb_to_hex(r: int, g: int, b:int) -> str:\n",
    "    \"\"\"\n",
    "    Converts a user-inputted RGB value to its hexadecimal equivalent.\n",
    "    :param r: Red value (0-255)\n",
    "    :param g: Green value (0-255)\n",
    "    :param b: Blue value (0-255)\n",
    "    :return: Hex color code, format '#RRGGBB'\n",
    "    \"\"\"\n",
    "    hex_code = '#'\n",
    "    for color in (r, g, b):\n",
    "        hex_code += f\"{color:X}\"\n",
    "\n",
    "    print(f\"\"\"\n",
    "RGB values:\n",
    "Red: {red_input:>6}\n",
    "Green: {green_input:>4}\n",
    "Blue: {blue_input:>5}\n",
    "    \"\"\")\n",
    "    # (Yes, having fun with decorators here)\n",
    "\n",
    "    for color_value in (red_input, green_input, blue_input):\n",
    "        if not 0 <= color_value <= 255:\n",
    "            raise ValueError(f\"Wrong value: {color_value} has to be between 0-255.\")\n",
    "\n",
    "    print()\n",
    "    print(\"The hex value is:\", hex_code)\n",
    "    return hex_code\n",
    "\n",
    "\n",
    "red_input = int(input(\"Enter the RED color in decimal form\\n(0-255): \"))\n",
    "green_input = int(input(\"Enter the GREEN color in decimal form\\n(0-255): \"))\n",
    "blue_input = int(input(\"Enter the BLUE color in decimal form\\n(0-255): \"))\n",
    "\n",
    "rgb_to_hex(red_input, green_input, blue_input)\n"
   ],
   "id": "9a4ca262239daabd",
   "outputs": [],
   "execution_count": null
  },
  {
   "metadata": {},
   "cell_type": "markdown",
   "source": "## Oppgave 3.4",
   "id": "1bde69897b0544db"
  },
  {
   "metadata": {},
   "cell_type": "code",
   "source": [
    "def number_multiplication(first_num: int, second_num: int) -> int:\n",
    "    return first_num * second_num\n",
    "\n",
    "def verify_multiplication(function, expected_result) -> bool:\n",
    "    return True if function == expected_result else False\n",
    "\n",
    "print(verify_multiplication(number_multiplication(5,5), 25))"
   ],
   "id": "4e804d47a81678fe",
   "outputs": [],
   "execution_count": null
  }
 ],
 "metadata": {
  "kernelspec": {
   "display_name": "Python 3",
   "language": "python",
   "name": "python3"
  },
  "language_info": {
   "codemirror_mode": {
    "name": "ipython",
    "version": 2
   },
   "file_extension": ".py",
   "mimetype": "text/x-python",
   "name": "python",
   "nbconvert_exporter": "python",
   "pygments_lexer": "ipython2",
   "version": "2.7.6"
  }
 },
 "nbformat": 4,
 "nbformat_minor": 5
}
