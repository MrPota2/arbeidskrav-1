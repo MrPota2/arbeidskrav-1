{
 "cells": [
  {
   "metadata": {},
   "cell_type": "markdown",
   "source": [
    "## Oppgave 1\n",
    "\n",
    "Note: I have some Python experience prior. Nothing was created purely by AI unless explicitly stated. AI has been used to consult for knowledge."
   ],
   "id": "a8a2fda340acb4b8"
  },
  {
   "metadata": {},
   "cell_type": "markdown",
   "source": "## Oppgave 1.1",
   "id": "43fb5b4781a4c256"
  },
  {
   "metadata": {
    "collapsed": true,
    "tags": [],
    "ExecuteTime": {
     "end_time": "2025-09-24T18:29:28.887479Z",
     "start_time": "2025-09-24T18:29:25.681959Z"
    }
   },
   "cell_type": "code",
   "source": [
    "selected_number = input(\"Please enter a positive integer: \")\n",
    "\n",
    "try:\n",
    "    int_value = int(selected_number)\n",
    "except (ValueError, TypeError):\n",
    "    raise TypeError(\"The selected number is not an integer\")\n",
    "\n",
    "if int_value <= 0:\n",
    "    raise ValueError(\"The selected number must be positive.\")\n",
    "\n",
    "sum_of_number_range = int_value # Starts at selected_number to include the last number as task asks\n",
    "\n",
    "print(f\"Number {int_value} selected.\")\n",
    "\n",
    "for i in range(int_value):\n",
    "    sum_of_number_range += i\n",
    "\n",
    "print(f\"The sum of all numbers between 0 and {int_value} is:  {sum_of_number_range}.\")"
   ],
   "id": "84c1cb0d91286f2f",
   "outputs": [
    {
     "name": "stdout",
     "output_type": "stream",
     "text": [
      "Number 5 selected.\n",
      "The sum of all numbers between 0 and 5 is:  15.\n"
     ]
    }
   ],
   "execution_count": 1
  },
  {
   "metadata": {},
   "cell_type": "markdown",
   "source": "## Oppgave 1.2",
   "id": "75859150a662e779"
  },
  {
   "metadata": {
    "ExecuteTime": {
     "end_time": "2025-09-24T19:41:05.574271Z",
     "start_time": "2025-09-24T19:40:57.989999Z"
    }
   },
   "cell_type": "code",
   "source": [
    "first_sentence = input(\"Please enter first sentence: \")\n",
    "second_sentence = input(\"Now, enter the second sentence: \")\n",
    "\n",
    "print(f\"Thank you! Summary:\\n\\nFirst Sentence: '{first_sentence}'\\n** Character count: {len(first_sentence)} **\\n\\nSecond sentence: '{second_sentence}'\\n** Character count: {len(second_sentence)} **\\n\")\n",
    "\n",
    "if len(first_sentence) > len(second_sentence):\n",
    "    print(f\"The first sentence is the longest with {len(first_sentence)} characters!\")\n",
    "elif len(first_sentence) < len(second_sentence):\n",
    "    print(f\"The second sentence is the longest with {len(second_sentence)} characters!\")\n",
    "else:\n",
    "    print(f\"The two sentences are the same length, with {len(first_sentence)} characters!\")"
   ],
   "id": "3f896086cd052fa",
   "outputs": [
    {
     "name": "stdout",
     "output_type": "stream",
     "text": [
      "Thank you! Summary:\n",
      "\n",
      "First Sentence: '12345'\n",
      "** Character count: 5 **\n",
      "\n",
      "Second sentence: '123456'\n",
      "** Character count: 6 **\n",
      "\n",
      "The second sentence is the longest with 6 characters!\n"
     ]
    }
   ],
   "execution_count": 3
  },
  {
   "metadata": {},
   "cell_type": "markdown",
   "source": "## Oppgave 1.3",
   "id": "df630bdd9451e580"
  },
  {
   "metadata": {
    "ExecuteTime": {
     "end_time": "2025-09-24T19:41:25.689923Z",
     "start_time": "2025-09-24T19:41:22.203347Z"
    }
   },
   "cell_type": "code",
   "source": [
    "number_input = int(input(\"Please enter the number you want multiplied: \"))\n",
    "\n",
    "for number in range(1, 11):\n",
    "    print(f\"{number_input} * {number} = {number_input * number}\")"
   ],
   "id": "e4bf7feae5153825",
   "outputs": [
    {
     "name": "stdout",
     "output_type": "stream",
     "text": [
      "11 * 1 = 11\n",
      "11 * 2 = 22\n",
      "11 * 3 = 33\n",
      "11 * 4 = 44\n",
      "11 * 5 = 55\n",
      "11 * 6 = 66\n",
      "11 * 7 = 77\n",
      "11 * 8 = 88\n",
      "11 * 9 = 99\n",
      "11 * 10 = 110\n"
     ]
    }
   ],
   "execution_count": 4
  },
  {
   "metadata": {},
   "cell_type": "markdown",
   "source": "## Oppgave 1.4",
   "id": "ac76c57a08fcb488"
  },
  {
   "metadata": {
    "ExecuteTime": {
     "end_time": "2025-09-24T19:41:54.882734Z",
     "start_time": "2025-09-24T19:41:52.921875Z"
    }
   },
   "cell_type": "code",
   "source": [
    "fruits = [\"eple\", \"banan\", \"appelsin\", \"drue\", \"kiwi\"]\n",
    "\n",
    "while True: # Wrapped in an infinite while-loop so it will prompt you to try again if failed\n",
    "    try:\n",
    "        first_index = int(input(\"Please enter the first index to replace: \"))\n",
    "        second_index = int(input(\"Please enter the second index to replace: \"))\n",
    "\n",
    "        fruits[first_index], fruits[second_index] = fruits[second_index], fruits[first_index]\n",
    "\n",
    "    except IndexError:\n",
    "        print(\"ERROR: One of the indices are invalid. Please try again.\")\n",
    "        continue\n",
    "\n",
    "    except Exception:\n",
    "        print(\"ERROR: Unknown error. Please check your input and try again.\")\n",
    "        continue\n",
    "\n",
    "    else:\n",
    "        print(\"Success!\\nIndices successfully swapped. New list:\\n\")\n",
    "        print(fruits)\n",
    "        break"
   ],
   "id": "afe01efedbc404b",
   "outputs": [
    {
     "name": "stdout",
     "output_type": "stream",
     "text": [
      "Success!\n",
      "Indices successfully swapped. New list:\n",
      "\n",
      "['eple', 'appelsin', 'banan', 'drue', 'kiwi']\n"
     ]
    }
   ],
   "execution_count": 6
  },
  {
   "metadata": {},
   "cell_type": "markdown",
   "source": "## Oppgave 1.5",
   "id": "42694fe76c76dece"
  },
  {
   "metadata": {
    "ExecuteTime": {
     "end_time": "2025-09-24T19:52:54.765846Z",
     "start_time": "2025-09-24T19:52:53.140284Z"
    }
   },
   "cell_type": "code",
   "source": [
    "base_number = int(input(\"Please enter the starting of the range: \"))\n",
    "top_number = int(input(\"Now, please enter the top number of the range: \"))\n",
    "\n",
    "padding_len = 4\n",
    "\n",
    "print(\"| \", end=\"\") # Used ChatGPT for tips resulting in the end=\"\"\n",
    "for number in range(base_number, top_number):\n",
    "    print(f\"{str(number).center(padding_len)} | \", end=\"\")\n",
    "\n",
    "print(\"\\n|\", end=\"\")\n",
    "\n",
    "for number in range(base_number, top_number):\n",
    "    print(\"-\" + \"-\" * padding_len + \"-|\", end=\"\")\n",
    "\n",
    "print()\n",
    "for multiple in range(1, 11):\n",
    "    for multiple_index in range(base_number, top_number):\n",
    "        print(f\"| {str(multiple_index * multiple).center(padding_len)} \", end=\"\")\n",
    "    print(\"|\")\n",
    "\n"
   ],
   "id": "4219a12f456dc8f0",
   "outputs": [
    {
     "name": "stdout",
     "output_type": "stream",
     "text": [
      "|  1   |  2   | \n",
      "|------|------|\n",
      "|  1   |  2   |\n",
      "|  2   |  4   |\n",
      "|  3   |  6   |\n",
      "|  4   |  8   |\n",
      "|  5   |  10  |\n",
      "|  6   |  12  |\n",
      "|  7   |  14  |\n",
      "|  8   |  16  |\n",
      "|  9   |  18  |\n",
      "|  10  |  20  |\n"
     ]
    }
   ],
   "execution_count": 27
  }
 ],
 "metadata": {
  "kernelspec": {
   "display_name": "Python 3",
   "language": "python",
   "name": "python3"
  },
  "language_info": {
   "codemirror_mode": {
    "name": "ipython",
    "version": 2
   },
   "file_extension": ".py",
   "mimetype": "text/x-python",
   "name": "python",
   "nbconvert_exporter": "python",
   "pygments_lexer": "ipython2",
   "version": "2.7.6"
  }
 },
 "nbformat": 4,
 "nbformat_minor": 5
}
