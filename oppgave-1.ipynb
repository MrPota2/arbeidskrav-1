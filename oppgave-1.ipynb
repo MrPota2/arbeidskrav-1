{
 "cells": [
  {
   "metadata": {},
   "cell_type": "markdown",
   "source": [
    "## Oppgave 1\n",
    "I will use a ipynb for oppgave 1, and move on to separate files for the remainder of the assignment\n",
    "\n",
    "Note: I have some Python experience prior. Nothing was created by AI unless explicitly stated."
   ],
   "id": "a8a2fda340acb4b8"
  },
  {
   "metadata": {},
   "cell_type": "markdown",
   "source": "## Oppgave 1.1",
   "id": "43fb5b4781a4c256"
  },
  {
   "metadata": {
    "collapsed": true,
    "tags": []
   },
   "cell_type": "code",
   "source": [
    "#TODO: Wrap input in try/except for type checking\n",
    "selected_number = int(input(\"Please enter a positive integer: \"))\n",
    "sum_of_number_range = selected_number # Starts at selected_number to include the last number as task asks\n",
    "\n",
    "print(f\"Number {selected_number} selected.\")\n",
    "\n",
    "for i in range(selected_number):\n",
    "    sum_of_number_range += i\n",
    "\n",
    "print(f\"The sum of all numbers between 0 and {selected_number} is:  {sum_of_number_range}.\")"
   ],
   "id": "84c1cb0d91286f2f",
   "outputs": [],
   "execution_count": null
  },
  {
   "metadata": {},
   "cell_type": "markdown",
   "source": "## Oppgave 1.2",
   "id": "75859150a662e779"
  },
  {
   "metadata": {},
   "cell_type": "code",
   "source": [
    "first_sentence = input(\"Please enter first sentence: \")\n",
    "second_sentence = input(\"Now, enter the second sentence: \")\n",
    "\n",
    "print(f\"Thank you! Summary:\\n\\nFirst Sentence: '{first_sentence}'\\n** Character count: {len(first_sentence)} **\\n\\nSecond sentence: '{second_sentence}'\\n** Character count: {len(second_sentence)} **\\n\")\n",
    "\n",
    "if len(first_sentence) > len(second_sentence):\n",
    "    print(f\"The first sentence is the longest with {len(first_sentence)} characters!\")\n",
    "elif len(first_sentence) < len(second_sentence):\n",
    "    print(f\"The second sentence is the longest with {len(second_sentence)} characters!\")\n",
    "else:\n",
    "    print(f\"The two sentences are the same length, with {len(first_sentence)} characters!\")"
   ],
   "id": "3f896086cd052fa",
   "outputs": [],
   "execution_count": null
  },
  {
   "metadata": {},
   "cell_type": "markdown",
   "source": "## Oppgave 1.3",
   "id": "df630bdd9451e580"
  },
  {
   "metadata": {},
   "cell_type": "code",
   "source": [
    "number_input = int(input(\"Please enter the number you want multiplied: \"))\n",
    "\n",
    "for number in range(1, 11):\n",
    "    print(f\"{number_input} * {number} = {number_input * number}\")"
   ],
   "id": "e4bf7feae5153825",
   "outputs": [],
   "execution_count": null
  },
  {
   "metadata": {},
   "cell_type": "markdown",
   "source": "## Oppgave 1.4",
   "id": "ac76c57a08fcb488"
  },
  {
   "metadata": {},
   "cell_type": "code",
   "source": [
    " fruits = [\"eple\", \"banan\", \"appelsin\", \"drue\", \"kiwi\"]\n",
    "\n",
    " while True: # Wrapped in an infinite while-loop so it will prompt you to try again if failed\n",
    "     try:\n",
    "         first_index = int(input(\"Please enter the first index to replace: \"))\n",
    "         second_index = int(input(\"Please enter the second index to replace: \"))\n",
    "\n",
    "         fruits[first_index], fruits[second_index] = fruits[second_index], fruits[first_index]\n",
    "\n",
    "     except IndexError:\n",
    "         print(\"ERROR: One of the indices are invalid. Please try again.\")\n",
    "         continue\n",
    "\n",
    "     except Exception:\n",
    "         print(\"ERROR: Unknown error. Please check your input and try again.\")\n",
    "         continue\n",
    "\n",
    "     else:\n",
    "         print(\"Success!\\nIndices successfully swapped. New list:\\n\")\n",
    "         print(fruits)\n",
    "         break"
   ],
   "id": "afe01efedbc404b",
   "outputs": [],
   "execution_count": null
  }
 ],
 "metadata": {
  "kernelspec": {
   "display_name": "Python 3",
   "language": "python",
   "name": "python3"
  },
  "language_info": {
   "codemirror_mode": {
    "name": "ipython",
    "version": 2
   },
   "file_extension": ".py",
   "mimetype": "text/x-python",
   "name": "python",
   "nbconvert_exporter": "python",
   "pygments_lexer": "ipython2",
   "version": "2.7.6"
  }
 },
 "nbformat": 4,
 "nbformat_minor": 5
}
