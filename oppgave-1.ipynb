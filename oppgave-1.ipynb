{
 "cells": [
  {
   "metadata": {},
   "cell_type": "markdown",
   "source": [
    "## Oppgave 1\n",
    "I will use a ipynb for oppgave 1, and move on to separate files for the remainder of the assignment\n",
    "\n",
    "Note: I have some Python experience prior. Nothing was created by AI unless explicitly stated."
   ],
   "id": "a8a2fda340acb4b8"
  },
  {
   "metadata": {},
   "cell_type": "markdown",
   "source": "### Oppgave 1.1",
   "id": "43fb5b4781a4c256"
  },
  {
   "metadata": {
    "collapsed": true,
    "ExecuteTime": {
     "end_time": "2025-09-08T12:48:02.126940Z",
     "start_time": "2025-09-08T12:48:00.412856Z"
    }
   },
   "cell_type": "code",
   "source": [
    "# User prompt\n",
    "#TODO: Wrap input in try/except for type checking\n",
    "selected_number = int(input(\"Please enter a positive integer: \"))\n",
    "sum_of_number_range = 0\n",
    "\n",
    "print(f\"Number {selected_number} selected.\")\n",
    "\n",
    "for i in range(selected_number):\n",
    "    sum_of_number_range += i\n",
    "\n",
    "print(f\"The sum of all numbers between 0 and {selected_number} is {sum_of_number_range}.\")"
   ],
   "id": "84c1cb0d91286f2f",
   "outputs": [
    {
     "name": "stdout",
     "output_type": "stream",
     "text": [
      "Number 2 selected.\n",
      "The sum of all numbers between 0 and 2 is 1.\n"
     ]
    }
   ],
   "execution_count": 4
  }
 ],
 "metadata": {
  "kernelspec": {
   "display_name": "Python 3",
   "language": "python",
   "name": "python3"
  },
  "language_info": {
   "codemirror_mode": {
    "name": "ipython",
    "version": 2
   },
   "file_extension": ".py",
   "mimetype": "text/x-python",
   "name": "python",
   "nbconvert_exporter": "python",
   "pygments_lexer": "ipython2",
   "version": "2.7.6"
  }
 },
 "nbformat": 4,
 "nbformat_minor": 5
}
