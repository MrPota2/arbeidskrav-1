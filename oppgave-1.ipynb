{
 "cells": [
  {
   "metadata": {},
   "cell_type": "markdown",
   "source": [
    "## Oppgave 1\n",
    "\n",
    "Note: I have some Python experience prior. Nothing was created purely by AI unless explicitly stated. AI has been used to consult for knowledge."
   ],
   "id": "a8a2fda340acb4b8"
  },
  {
   "metadata": {},
   "cell_type": "markdown",
   "source": "## Oppgave 1.1",
   "id": "43fb5b4781a4c256"
  },
  {
   "metadata": {
    "collapsed": true,
    "tags": [],
    "ExecuteTime": {
     "end_time": "2025-09-18T21:37:21.891646Z",
     "start_time": "2025-09-18T21:37:19.668437Z"
    }
   },
   "cell_type": "code",
   "source": [
    "selected_number = input(\"Please enter a positive integer: \")\n",
    "\n",
    "try:\n",
    "    int_value = int(selected_number)\n",
    "except (ValueError, TypeError):\n",
    "    raise TypeError(\"The selected number is not an integer\")\n",
    "\n",
    "if int_value <= 0:\n",
    "    raise ValueError(\"The selected number must be positive.\")\n",
    "\n",
    "sum_of_number_range = int_value # Starts at selected_number to include the last number as task asks\n",
    "\n",
    "print(f\"Number {int_value} selected.\")\n",
    "\n",
    "for i in range(int_value):\n",
    "    sum_of_number_range += i\n",
    "\n",
    "print(f\"The sum of all numbers between 0 and {int_value} is:  {sum_of_number_range}.\")"
   ],
   "id": "84c1cb0d91286f2f",
   "outputs": [
    {
     "name": "stdout",
     "output_type": "stream",
     "text": [
      "Number 5 selected.\n",
      "The sum of all numbers between 0 and 5 is:  15.\n"
     ]
    }
   ],
   "execution_count": 7
  },
  {
   "metadata": {},
   "cell_type": "markdown",
   "source": "## Oppgave 1.2",
   "id": "75859150a662e779"
  },
  {
   "metadata": {},
   "cell_type": "code",
   "source": [
    "first_sentence = input(\"Please enter first sentence: \")\n",
    "second_sentence = input(\"Now, enter the second sentence: \")\n",
    "\n",
    "print(f\"Thank you! Summary:\\n\\nFirst Sentence: '{first_sentence}'\\n** Character count: {len(first_sentence)} **\\n\\nSecond sentence: '{second_sentence}'\\n** Character count: {len(second_sentence)} **\\n\")\n",
    "\n",
    "if len(first_sentence) > len(second_sentence):\n",
    "    print(f\"The first sentence is the longest with {len(first_sentence)} characters!\")\n",
    "elif len(first_sentence) < len(second_sentence):\n",
    "    print(f\"The second sentence is the longest with {len(second_sentence)} characters!\")\n",
    "else:\n",
    "    print(f\"The two sentences are the same length, with {len(first_sentence)} characters!\")"
   ],
   "id": "3f896086cd052fa",
   "outputs": [],
   "execution_count": null
  },
  {
   "metadata": {},
   "cell_type": "markdown",
   "source": "## Oppgave 1.3",
   "id": "df630bdd9451e580"
  },
  {
   "metadata": {},
   "cell_type": "code",
   "source": [
    "number_input = int(input(\"Please enter the number you want multiplied: \"))\n",
    "\n",
    "for number in range(1, 11):\n",
    "    print(f\"{number_input} * {number} = {number_input * number}\")"
   ],
   "id": "e4bf7feae5153825",
   "outputs": [],
   "execution_count": null
  },
  {
   "metadata": {},
   "cell_type": "markdown",
   "source": "## Oppgave 1.4",
   "id": "ac76c57a08fcb488"
  },
  {
   "metadata": {},
   "cell_type": "code",
   "source": [
    " fruits = [\"eple\", \"banan\", \"appelsin\", \"drue\", \"kiwi\"]\n",
    "\n",
    " while True: # Wrapped in an infinite while-loop so it will prompt you to try again if failed\n",
    "     try:\n",
    "         first_index = int(input(\"Please enter the first index to replace: \"))\n",
    "         second_index = int(input(\"Please enter the second index to replace: \"))\n",
    "\n",
    "         fruits[first_index], fruits[second_index] = fruits[second_index], fruits[first_index]\n",
    "\n",
    "     except IndexError:\n",
    "         print(\"ERROR: One of the indices are invalid. Please try again.\")\n",
    "         continue\n",
    "\n",
    "     except Exception:\n",
    "         print(\"ERROR: Unknown error. Please check your input and try again.\")\n",
    "         continue\n",
    "\n",
    "     else:\n",
    "         print(\"Success!\\nIndices successfully swapped. New original_list:\\n\")\n",
    "         print(fruits)\n",
    "         break"
   ],
   "id": "afe01efedbc404b",
   "outputs": [],
   "execution_count": null
  },
  {
   "metadata": {},
   "cell_type": "markdown",
   "source": [
    "## Oppgave 1.5\n",
    "##### Note: I couldn't figure out a way to normalize the numbers so they all fell inline. I could pad the start with 0's, but that wouldn't be so natural here and not work with 3-digit numbers anyways..."
   ],
   "id": "42694fe76c76dece"
  },
  {
   "metadata": {
    "ExecuteTime": {
     "end_time": "2025-09-18T21:39:13.885159Z",
     "start_time": "2025-09-18T21:39:07.659713Z"
    }
   },
   "cell_type": "code",
   "source": [
    "base_number = int(input(\"Please enter the starting of the range: \"))\n",
    "top_number = int(input(\"Now, please enter the top number of the range: \"))\n",
    "\n",
    "\n",
    "print(\"| \", end=\"\") # Used ChatGPT for the end=\"\" tip\n",
    "for number in range(base_number, top_number):\n",
    "    print(f\"{number} | \", end=\"\")\n",
    "\n",
    "print(\"\\n|\", end=\"\")\n",
    "\n",
    "for number in range(base_number, top_number):\n",
    "    print(\"---|\", end=\"\")\n",
    "\n",
    "print()\n",
    "for multiple in range(1, 11):\n",
    "    #print(\"|\")\n",
    "    for multiple_index in range(base_number, top_number):\n",
    "        print(f\"| {multiple_index * multiple} \", end=\"\")\n",
    "    print(\"|\")\n",
    "\n"
   ],
   "id": "4219a12f456dc8f0",
   "outputs": [
    {
     "name": "stdout",
     "output_type": "stream",
     "text": [
      "| 5 | 6 | 7 | 8 | 9 | \n",
      "|---|---|---|---|---|\n",
      "| 5 | 6 | 7 | 8 | 9 |\n",
      "| 10 | 12 | 14 | 16 | 18 |\n",
      "| 15 | 18 | 21 | 24 | 27 |\n",
      "| 20 | 24 | 28 | 32 | 36 |\n",
      "| 25 | 30 | 35 | 40 | 45 |\n",
      "| 30 | 36 | 42 | 48 | 54 |\n",
      "| 35 | 42 | 49 | 56 | 63 |\n",
      "| 40 | 48 | 56 | 64 | 72 |\n",
      "| 45 | 54 | 63 | 72 | 81 |\n",
      "| 50 | 60 | 70 | 80 | 90 |\n"
     ]
    }
   ],
   "execution_count": 9
  }
 ],
 "metadata": {
  "kernelspec": {
   "display_name": "Python 3",
   "language": "python",
   "name": "python3"
  },
  "language_info": {
   "codemirror_mode": {
    "name": "ipython",
    "version": 2
   },
   "file_extension": ".py",
   "mimetype": "text/x-python",
   "name": "python",
   "nbconvert_exporter": "python",
   "pygments_lexer": "ipython2",
   "version": "2.7.6"
  }
 },
 "nbformat": 4,
 "nbformat_minor": 5
}
