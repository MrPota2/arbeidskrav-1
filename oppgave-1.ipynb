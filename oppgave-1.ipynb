{
 "cells": [
  {
   "metadata": {},
   "cell_type": "markdown",
   "source": [
    "## Oppgave 1\n",
    "I will use a ipynb for oppgave 1, and move on to separate files for the remainder of the assignment\n",
    "\n",
    "Note: I have some Python experience prior. Nothing was created by AI unless explicitly stated."
   ],
   "id": "a8a2fda340acb4b8"
  },
  {
   "metadata": {},
   "cell_type": "markdown",
   "source": "### Oppgave 1.1",
   "id": "43fb5b4781a4c256"
  },
  {
   "metadata": {
    "collapsed": true,
    "tags": []
   },
   "cell_type": "code",
   "source": [
    "#TODO: Wrap input in try/except for type checking\n",
    "selected_number = int(input(\"Please enter a positive integer: \"))\n",
    "sum_of_number_range = selected_number # Starts at selected_number to include the last number as task asks\n",
    "\n",
    "print(f\"Number {selected_number} selected.\")\n",
    "\n",
    "for i in range(selected_number):\n",
    "    sum_of_number_range += i\n",
    "\n",
    "print(f\"The sum of all numbers between 0 and {selected_number} is:  {sum_of_number_range}.\")"
   ],
   "id": "84c1cb0d91286f2f",
   "outputs": [],
   "execution_count": null
  },
  {
   "metadata": {},
   "cell_type": "markdown",
   "source": "### Oppgave 1.2",
   "id": "75859150a662e779"
  },
  {
   "metadata": {
    "ExecuteTime": {
     "end_time": "2025-09-08T13:29:35.703284Z",
     "start_time": "2025-09-08T13:29:32.894282Z"
    }
   },
   "cell_type": "code",
   "source": [
    "first_sentence = input(\"Please enter first sentence: \")\n",
    "second_sentence = input(\"Now, enter the second sentence: \")\n",
    "\n",
    "print(f\"Thank you! Summary:\\n\\nFirst Sentence: '{first_sentence}'\\n** Character count: {len(first_sentence)} **\\n\\nSecond sentence: '{second_sentence}'\\n** Character count: {len(second_sentence)} **\\n\")\n",
    "\n",
    "if len(first_sentence) > len(second_sentence):\n",
    "    print(f\"The first sentence is the longest with {len(first_sentence)} characters!\")\n",
    "elif len(first_sentence) < len(second_sentence):\n",
    "    print(f\"The second sentence is the longest with {len(second_sentence)} characters!\")\n",
    "else:\n",
    "    print(f\"The two sentences are the same length, with {len(first_sentence)} characters!\")\n",
    "\n",
    "\n"
   ],
   "id": "3f896086cd052fa",
   "outputs": [
    {
     "name": "stdout",
     "output_type": "stream",
     "text": [
      "Thank you! Summary:\n",
      "First Sentence: 'fff'\n",
      "** Character count: 3 **\n",
      "\n",
      "Second sentence: 'fff'\n",
      "** Character count: 3 **\n",
      "\n",
      "The two sentences are the same length, with 3 characters!\n"
     ]
    }
   ],
   "execution_count": 12
  }
 ],
 "metadata": {
  "kernelspec": {
   "display_name": "Python 3",
   "language": "python",
   "name": "python3"
  },
  "language_info": {
   "codemirror_mode": {
    "name": "ipython",
    "version": 2
   },
   "file_extension": ".py",
   "mimetype": "text/x-python",
   "name": "python",
   "nbconvert_exporter": "python",
   "pygments_lexer": "ipython2",
   "version": "2.7.6"
  }
 },
 "nbformat": 4,
 "nbformat_minor": 5
}
