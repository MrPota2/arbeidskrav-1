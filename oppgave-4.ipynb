{
 "cells": [
  {
   "metadata": {},
   "cell_type": "markdown",
   "source": "## Oppgave 4.1",
   "id": "a77c134d494df385"
  },
  {
   "metadata": {
    "ExecuteTime": {
     "end_time": "2025-09-14T13:10:43.062757Z",
     "start_time": "2025-09-14T13:10:43.045055Z"
    }
   },
   "cell_type": "code",
   "source": [
    "import random\n",
    "import string\n",
    "from os.path import exists\n",
    "\n",
    "file_extensions = [\"txt\", \"csv\", \"log\"]\n",
    "char_pool = string.ascii_letters + string.digits\n",
    "\n",
    "def random_filename_generator(file_count):\n",
    "    files_created = 0\n",
    "\n",
    "    filename = ''\n",
    "    while files_created < file_count:\n",
    "        for char in range(10):\n",
    "            filename += random.choice(char_pool)\n",
    "        extension = random.choice(file_extensions)\n",
    "        with open(f'assets/{filename}.{extension}', 'w') as wf:\n",
    "            wf.write(f\"Dette er fil nummer: {files_created + 1}!\")\n",
    "\n",
    "        files_created += 1\n",
    "        filename = ''\n",
    "\n",
    "random_filename_generator(30)"
   ],
   "id": "14a94db7cae7568",
   "outputs": [],
   "execution_count": 3
  },
  {
   "metadata": {},
   "cell_type": "markdown",
   "source": "## Oppgave 4.2",
   "id": "d82fdaec261e7919"
  },
  {
   "metadata": {},
   "cell_type": "code",
   "source": [
    "\n",
    "import os\n",
    "def file_sorter():\n",
    "    os.getcwd()\n",
    "    file_path = os.path.join(os.getcwd(), \"assets\")\n",
    "    if not os.path.exists(file_path):\n",
    "        os.mkdir(file_path, exist_ok=True)\n",
    "    else:\n",
    "        os.chdir(\"assets\")\n",
    "\n",
    "    print(os.getcwd())\n",
    "\n",
    "\n",
    "\n",
    "file_sorter()"
   ],
   "id": "483248e0033eb23e",
   "outputs": [],
   "execution_count": null
  }
 ],
 "metadata": {
  "kernelspec": {
   "display_name": "Python 3",
   "language": "python",
   "name": "python3"
  },
  "language_info": {
   "codemirror_mode": {
    "name": "ipython",
    "version": 2
   },
   "file_extension": ".py",
   "mimetype": "text/x-python",
   "name": "python",
   "nbconvert_exporter": "python",
   "pygments_lexer": "ipython2",
   "version": "2.7.6"
  }
 },
 "nbformat": 4,
 "nbformat_minor": 5
}
