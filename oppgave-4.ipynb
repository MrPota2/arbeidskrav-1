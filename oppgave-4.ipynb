{
 "cells": [
  {
   "metadata": {},
   "cell_type": "markdown",
   "source": "## Oppgave 4.1",
   "id": "a77c134d494df385"
  },
  {
   "metadata": {
    "ExecuteTime": {
     "end_time": "2025-09-14T14:46:31.195752Z",
     "start_time": "2025-09-14T14:46:31.175143Z"
    }
   },
   "cell_type": "code",
   "source": [
    "import random\n",
    "import string\n",
    "from os.path import exists\n",
    "\n",
    "file_extensions = [\"txt\", \"csv\", \"log\"]\n",
    "char_pool = string.ascii_letters + string.digits\n",
    "\n",
    "def random_filename_generator(file_count):\n",
    "    files_created = 0\n",
    "\n",
    "    filename = ''\n",
    "    while files_created < file_count:\n",
    "        for char in range(10):\n",
    "            filename += random.choice(char_pool)\n",
    "        extension = random.choice(file_extensions)\n",
    "        with open(f'assets/{filename}.{extension}', 'w') as wf:\n",
    "            wf.write(f\"Dette er fil nummer: {files_created + 1}!\")\n",
    "\n",
    "        files_created += 1\n",
    "        filename = ''\n",
    "\n",
    "random_filename_generator(30)"
   ],
   "id": "14a94db7cae7568",
   "outputs": [],
   "execution_count": 34
  },
  {
   "metadata": {},
   "cell_type": "markdown",
   "source": [
    "## Oppgave 4.2\n",
    "##### Based on knowledge from: https://www.youtube.com/watch?v=yxa-DJuuTBI"
   ],
   "id": "d82fdaec261e7919"
  },
  {
   "metadata": {
    "ExecuteTime": {
     "end_time": "2025-09-14T14:46:40.508902Z",
     "start_time": "2025-09-14T14:46:40.488263Z"
    }
   },
   "cell_type": "code",
   "source": [
    "from pathlib import Path\n",
    "\n",
    "def file_sorter():\n",
    "    sorting_extensions = [\"txt\", \"csv\", \"log\"]\n",
    "    sorted_path = Path() / \"assets\" / \"SortedFiles\"\n",
    "\n",
    "    # Dynamic folder creation\n",
    "    sorted_path.mkdir(parents=True, exist_ok=True)\n",
    "    for ext in sorting_extensions:\n",
    "        subdir_path = sorted_path / ext\n",
    "        if not Path(ext).exists():\n",
    "            subdir_path.mkdir(exist_ok=True)\n",
    "\n",
    "        for file in sorted_path.parent.glob(f\"*.{ext}\"):\n",
    "            file.replace(sorted_path / ext / file.name)\n",
    "\n",
    "\n",
    "file_sorter()"
   ],
   "id": "483248e0033eb23e",
   "outputs": [],
   "execution_count": 35
  }
 ],
 "metadata": {
  "kernelspec": {
   "display_name": "Python 3",
   "language": "python",
   "name": "python3"
  },
  "language_info": {
   "codemirror_mode": {
    "name": "ipython",
    "version": 2
   },
   "file_extension": ".py",
   "mimetype": "text/x-python",
   "name": "python",
   "nbconvert_exporter": "python",
   "pygments_lexer": "ipython2",
   "version": "2.7.6"
  }
 },
 "nbformat": 4,
 "nbformat_minor": 5
}
