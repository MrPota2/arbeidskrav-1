{
 "cells": [
  {
   "metadata": {},
   "cell_type": "markdown",
   "source": "## Oppgave 5.1",
   "id": "2b22c7f87a601390"
  },
  {
   "cell_type": "code",
   "id": "initial_id",
   "metadata": {
    "collapsed": true
   },
   "source": [
    "import csv\n",
    "\n",
    "with (open(\"bokutlån.csv\", \"r\", encoding='utf-8') as csv_file):\n",
    "    csv_reader = csv.DictReader(csv_file)\n",
    "    headers = csv_reader.fieldnames\n",
    "    extensions = 0\n",
    "\n",
    "    for line in csv_reader:\n",
    "\n",
    "        # Empty field sanitizer\n",
    "        if any(line[col] is None or line[col] == \"\" for col in headers): # Worked with GPT for this line, to find a comparator that would match if ANY column returned None or blank\n",
    "            continue\n",
    "\n",
    "        # Value checker for integer-only columns\n",
    "        try:\n",
    "            int(line[\"Forlenget\"])\n",
    "            int(line[\"Låneperiode\"])\n",
    "        except ValueError as e:\n",
    "            print(f\"WARNING: Skipped line for {line['Fornavn']} {line[\"Etternavn\"]}. Invalid value in expected integer-column: ({e})\")\n",
    "            continue\n",
    "\n",
    "        # Extension summarizer:\n",
    "        extensions += int(line[\"Forlenget\"])\n",
    "\n",
    "    print(f\"Total extension days: {extensions}.\")\n",
    "\n"
   ],
   "outputs": [],
   "execution_count": null
  },
  {
   "metadata": {},
   "cell_type": "markdown",
   "source": "## Oppgave 5.2",
   "id": "dcdeffb83075a28c"
  },
  {
   "metadata": {
    "collapsed": true
   },
   "cell_type": "code",
   "source": [
    "import csv\n",
    "\n",
    "\n",
    "def books_per_genre():\n",
    "    counter = {}\n",
    "\n",
    "    with (open(\"bokutlån.csv\", \"r\", encoding='utf-8') as csv_file):\n",
    "        csv_reader = csv.DictReader(csv_file)\n",
    "        headers = csv_reader.fieldnames\n",
    "\n",
    "        for line in csv_reader:\n",
    "\n",
    "            # Empty field sanitizer\n",
    "            if any(line[col] is None or line[col] == \"\" for col in headers): # Worked with GPT for this line, to find a comparator that would match if ANY column returned None or blank\n",
    "                continue\n",
    "\n",
    "            # Value checker for integer-only columns\n",
    "            try:\n",
    "                int(line[\"Forlenget\"])\n",
    "                int(line[\"Låneperiode\"])\n",
    "            except ValueError as e:\n",
    "                print(f\"WARNING: Skipped line for {line['Fornavn']} {line[\"Etternavn\"]}. Invalid value in expected integer-column: ({e})\")\n",
    "                continue\n",
    "\n",
    "            # Counter logic\n",
    "            counter[line[\"Sjanger\"]] = counter.get(line[\"Sjanger\"], 0) + 1 # Returns count of genre if exists, or initializes at zero\n",
    "\n",
    "    for genre, amount in counter.items():\n",
    "        print(f\"{genre}: {amount}\")\n",
    "\n",
    "books_per_genre()\n",
    "\n"
   ],
   "id": "8791704968ec9e",
   "outputs": [],
   "execution_count": null
  },
  {
   "metadata": {},
   "cell_type": "markdown",
   "source": "## Oppgave 5.3",
   "id": "fbd93bbaf1a1efb0"
  },
  {
   "metadata": {
    "collapsed": true,
    "ExecuteTime": {
     "end_time": "2025-09-18T20:23:17.050182Z",
     "start_time": "2025-09-18T20:23:17.041093Z"
    }
   },
   "cell_type": "code",
   "source": [
    "import csv\n",
    "\n",
    "\n",
    "def average_loan_period():\n",
    "\n",
    "\n",
    "    with (open(\"bokutlån.csv\", \"r\", encoding='utf-8') as csv_file):\n",
    "        csv_reader = csv.DictReader(csv_file)\n",
    "        headers = csv_reader.fieldnames\n",
    "\n",
    "        length_of_loan = []\n",
    "\n",
    "        for line in csv_reader:\n",
    "\n",
    "            # Empty field sanitizer\n",
    "            if any(line[col] is None or line[col] == \"\" for col in headers): # Worked with GPT for this line, to find a comparator that would match if ANY column returned None or blank\n",
    "                continue\n",
    "\n",
    "            # Value checker for integer-only columns\n",
    "            try:\n",
    "                int(line[\"Forlenget\"])\n",
    "                int(line[\"Låneperiode\"])\n",
    "            except ValueError as e:\n",
    "                print(f\"WARNING: Skipped line for {line['Fornavn']} {line[\"Etternavn\"]}. Invalid value in expected integer-column: ({e})\")\n",
    "                continue\n",
    "\n",
    "            total_loan_length = int(line[\"Forlenget\"]) + int(line[\"Låneperiode\"])\n",
    "            length_of_loan.append(total_loan_length)\n",
    "\n",
    "        average_loan_length = sum(length_of_loan) / len(length_of_loan)\n",
    "\n",
    "    print(f\"The average loan length is {average_loan_length:.0f} days.\")\n",
    "\n",
    "\n",
    "\n",
    "\n",
    "\n",
    "average_loan_period()\n",
    "\n"
   ],
   "id": "dda071add821e174",
   "outputs": [
    {
     "name": "stdout",
     "output_type": "stream",
     "text": [
      "WARNING: Skipped line for Finn Hansen. Invalid value in expected integer-column: (invalid literal for int() with base 10: 'abc')\n",
      "WARNING: Skipped line for Ole Dalen. Invalid value in expected integer-column: (invalid literal for int() with base 10: 'abc')\n",
      "WARNING: Skipped line for Eva Olsen. Invalid value in expected integer-column: (invalid literal for int() with base 10: 'abc')\n",
      "The average loan length is 16 days.\n"
     ]
    }
   ],
   "execution_count": 9
  }
 ],
 "metadata": {
  "kernelspec": {
   "display_name": "Python 3",
   "language": "python",
   "name": "python3"
  },
  "language_info": {
   "codemirror_mode": {
    "name": "ipython",
    "version": 2
   },
   "file_extension": ".py",
   "mimetype": "text/x-python",
   "name": "python",
   "nbconvert_exporter": "python",
   "pygments_lexer": "ipython2",
   "version": "2.7.6"
  }
 },
 "nbformat": 4,
 "nbformat_minor": 5
}
