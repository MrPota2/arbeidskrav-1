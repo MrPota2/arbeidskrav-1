{
 "cells": [
  {
   "metadata": {},
   "cell_type": "markdown",
   "source": "## Oppgave 5.1",
   "id": "2b22c7f87a601390"
  },
  {
   "cell_type": "code",
   "id": "initial_id",
   "metadata": {
    "collapsed": true,
    "ExecuteTime": {
     "end_time": "2025-09-14T16:38:21.831954Z",
     "start_time": "2025-09-14T16:38:21.822213Z"
    }
   },
   "source": [
    "import csv\n",
    "\n",
    "with (open(\"bokutlån.csv\", \"r\", encoding='utf-8') as csv_file):\n",
    "    csv_reader = csv.DictReader(csv_file)\n",
    "    headers = csv_reader.fieldnames\n",
    "    extensions = 0\n",
    "\n",
    "    for line in csv_reader:\n",
    "\n",
    "        # Empty field sanitizer\n",
    "        if any(line[col] is None or line[col] == \"\" for col in headers): # Worked with GPT for this line, to find a comparator that would match if ANY column returned None or blank\n",
    "            continue\n",
    "\n",
    "        # Value checker for integer-only columns\n",
    "        try:\n",
    "            int(line[\"Forlenget\"])\n",
    "            int(line[\"Låneperiode\"])\n",
    "        except ValueError as e:\n",
    "            print(f\"WARNING: Skipped line for {line['Fornavn']} {line[\"Etternavn\"]}. Invalid value in expected integer-column: ({e})\")\n",
    "            continue\n",
    "\n",
    "        # Extension summarizer:\n",
    "        extensions += int(line[\"Forlenget\"])\n",
    "        \n",
    "    print(f\"Total extension days: {extensions}.\")\n",
    "\n"
   ],
   "outputs": [
    {
     "name": "stdout",
     "output_type": "stream",
     "text": [
      "WARNING: Skipped line for Finn Hansen. Invalid value in expected integer-column: (invalid literal for int() with base 10: 'abc')\n",
      "WARNING: Skipped line for Ole Dalen. Invalid value in expected integer-column: (invalid literal for int() with base 10: 'abc')\n",
      "WARNING: Skipped line for Eva Olsen. Invalid value in expected integer-column: (invalid literal for int() with base 10: 'abc')\n",
      "Total extension days: 68.\n"
     ]
    }
   ],
   "execution_count": 51
  }
 ],
 "metadata": {
  "kernelspec": {
   "display_name": "Python 3",
   "language": "python",
   "name": "python3"
  },
  "language_info": {
   "codemirror_mode": {
    "name": "ipython",
    "version": 2
   },
   "file_extension": ".py",
   "mimetype": "text/x-python",
   "name": "python",
   "nbconvert_exporter": "python",
   "pygments_lexer": "ipython2",
   "version": "2.7.6"
  }
 },
 "nbformat": 4,
 "nbformat_minor": 5
}
