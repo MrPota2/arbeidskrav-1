{
 "cells": [
  {
   "metadata": {},
   "cell_type": "markdown",
   "source": "## Oppgave 5.1",
   "id": "2b22c7f87a601390"
  },
  {
   "cell_type": "code",
   "id": "initial_id",
   "metadata": {
    "collapsed": true,
    "ExecuteTime": {
     "end_time": "2025-09-22T09:33:46.029534Z",
     "start_time": "2025-09-22T09:33:46.019179Z"
    }
   },
   "source": [
    "import csv\n",
    "\n",
    "def get_total_extension_days(verbose=False):\n",
    "    num_of_error_rows = 0\n",
    "    extensions = 0\n",
    "\n",
    "\n",
    "    with (open(\"bokutlån.csv\", \"r\", encoding='utf-8') as csv_file):\n",
    "        csv_reader = csv.DictReader(csv_file)\n",
    "        headers = csv_reader.fieldnames\n",
    "\n",
    "        for row_num, row in enumerate(csv_reader, start=1):\n",
    "            # Empty field sanitizer\n",
    "            if any(row[col] is None or row[col] == \"\" for col in headers): # Worked with GPT for this line, to find a comparator that would match if ANY column returned None or blank\n",
    "                num_of_error_rows += 1\n",
    "                if verbose:\n",
    "                    print(f\"WARNING: Row {row_num} skipped. Empty column detected.\")\n",
    "                continue\n",
    "\n",
    "            # Value checker for integer-only columns\n",
    "            try:\n",
    "                int(row[\"Forlenget\"])\n",
    "                int(row[\"Låneperiode\"])\n",
    "            except ValueError as e:\n",
    "                num_of_error_rows += 1\n",
    "                if verbose:\n",
    "                    print(f\"WARNING: Row {row_num} skipped. Non-int value in int column: ({e})\")\n",
    "                continue\n",
    "\n",
    "            # Extension summarizer:\n",
    "            extensions += int(row[\"Forlenget\"])\n",
    "\n",
    "        # Error summary\n",
    "        if not verbose and num_of_error_rows > 0:\n",
    "            print(f\"WARNING: {num_of_error_rows} invalid lines skipped.\\nFor further details, run function with argument 'True'.\")\n",
    "        if num_of_error_rows > 0: # Adds a seperator line between warnings and output\n",
    "            print((\"=\" * 30) + \"\\n\")\n",
    "\n",
    "    print(f\"Total extension days: {extensions}.\")\n",
    "\n",
    "get_total_extension_days()\n"
   ],
   "outputs": [
    {
     "name": "stdout",
     "output_type": "stream",
     "text": [
      "WARNING: 6 invalid lines skipped.\n",
      "For further details, run function with argument 'True'.\n",
      "==============================\n",
      "\n",
      "Total extension days: 68.\n"
     ]
    }
   ],
   "execution_count": 40
  },
  {
   "metadata": {},
   "cell_type": "markdown",
   "source": "## Oppgave 5.2",
   "id": "dcdeffb83075a28c"
  },
  {
   "metadata": {
    "collapsed": true,
    "ExecuteTime": {
     "end_time": "2025-09-21T11:24:55.453058Z",
     "start_time": "2025-09-21T11:24:55.444778Z"
    }
   },
   "cell_type": "code",
   "source": [
    "import csv\n",
    "\n",
    "def books_per_genre(verbose=False) -> dict:\n",
    "    \"\"\"\n",
    "    Opens and reads *bokutlån.csv*, and sorts each genre into enumerated dictionary entries.\n",
    "\n",
    "    Has error handling that checks for corrupted rows (empty columns or invalid types).\n",
    "    :param verbose: Enables verbose error logging.\n",
    "    :return: Key-value dictionary (key=genre, val=number of books in genre)\n",
    "    \"\"\"\n",
    "    books_per_genre_dict = {}\n",
    "    num_of_error_rows = 0\n",
    "\n",
    "    with (open(\"bokutlån.csv\", \"r\", encoding='utf-8') as csv_file):\n",
    "        csv_reader = csv.DictReader(csv_file)\n",
    "        headers = csv_reader.fieldnames\n",
    "\n",
    "        for row_num, row in enumerate(csv_reader, start=1):\n",
    "\n",
    "            # Empty field sanitizer\n",
    "            if any(row[col] is None or row[col] == \"\" for col in headers): # Worked with GPT for this line, to find a comparator that would match if ANY column returned None or blank\n",
    "                num_of_error_rows += 1\n",
    "                if verbose:\n",
    "                    print(f\"WARNING: Row {row_num} skipped. Empty column detected.\")\n",
    "                continue\n",
    "\n",
    "            # Value checker for integer-only columns\n",
    "            try:\n",
    "                int(row[\"Forlenget\"])\n",
    "                int(row[\"Låneperiode\"])\n",
    "\n",
    "            except ValueError as e:\n",
    "                num_of_error_rows += 1\n",
    "                if verbose:\n",
    "                    print(f\"WARNING: Row {row_num} skipped. Non-int value in int column: ({e})\")\n",
    "                continue\n",
    "\n",
    "            # Counter logic\n",
    "            books_per_genre_dict[row[\"Sjanger\"]] = books_per_genre_dict.get(row[\"Sjanger\"], 0) + 1 # Returns count of genre if exists, otherwise initializes at zero\n",
    "\n",
    "    # Error summary\n",
    "    if not verbose and num_of_error_rows > 0:\n",
    "        print(f\"WARNING: {num_of_error_rows} invalid lines skipped.\\nFor further details, run function with argument 'True'.\")\n",
    "    if num_of_error_rows > 0: # Adds a seperator line between warnings and output\n",
    "        print((\"=\" * 30) + \"\\n\")\n",
    "\n",
    "    for genre, amount in books_per_genre_dict.items():\n",
    "        print(f\"{genre}: {amount}\")\n",
    "\n",
    "    return books_per_genre_dict\n",
    "\n",
    "books_per_genre()\n"
   ],
   "id": "8791704968ec9e",
   "outputs": [
    {
     "name": "stdout",
     "output_type": "stream",
     "text": [
      "WARNING: 6 invalid lines skipped.\n",
      "For further details, change 'Verbose' argument to 'True'.\n",
      "==============================\n",
      "\n",
      "Fantasy: 30\n",
      "Krim: 23\n",
      "Sakprosa: 16\n",
      "Fiksjon: 25\n",
      "{'Fantasy': 30, 'Krim': 23, 'Sakprosa': 16, 'Fiksjon': 25}\n"
     ]
    }
   ],
   "execution_count": 26
  },
  {
   "metadata": {},
   "cell_type": "markdown",
   "source": "## Oppgave 5.3",
   "id": "fbd93bbaf1a1efb0"
  },
  {
   "metadata": {
    "collapsed": true,
    "ExecuteTime": {
     "end_time": "2025-09-22T09:38:33.356353Z",
     "start_time": "2025-09-22T09:38:33.346029Z"
    }
   },
   "cell_type": "code",
   "source": [
    "import csv\n",
    "\n",
    "def average_loan_period(verbose=False):\n",
    "    num_of_error_rows = 0\n",
    "\n",
    "    with (open(\"bokutlån.csv\", \"r\", encoding='utf-8') as csv_file):\n",
    "        csv_reader = csv.DictReader(csv_file)\n",
    "        headers = csv_reader.fieldnames\n",
    "\n",
    "        length_of_loan = []\n",
    "\n",
    "        for row_num, row in enumerate(csv_reader, start=1):\n",
    "            # Empty field sanitizer\n",
    "            if any(row[col] is None or row[col] == \"\" for col in headers): # Worked with GPT for this line, to find a comparator that would match if ANY column returned None or blank\n",
    "                num_of_error_rows += 1\n",
    "                if verbose:\n",
    "                    print(f\"WARNING: Row {row_num} skipped. Empty column detected.\")\n",
    "                continue\n",
    "            # Value checker for integer-only columns\n",
    "            try:\n",
    "                int(row[\"Forlenget\"])\n",
    "                int(row[\"Låneperiode\"])\n",
    "            except ValueError as e:\n",
    "                num_of_error_rows += 1\n",
    "                if verbose:\n",
    "                    print(f\"WARNING: Row {row_num} skipped. Non-int value in int column: ({e})\")\n",
    "                continue\n",
    "\n",
    "            total_loan_length = int(row[\"Forlenget\"]) + int(row[\"Låneperiode\"])\n",
    "            length_of_loan.append(total_loan_length)\n",
    "\n",
    "        average_loan_length = sum(length_of_loan) / len(length_of_loan)\n",
    "        \n",
    "     # Error summary\n",
    "    if not verbose and num_of_error_rows > 0:\n",
    "        print(f\"WARNING: {num_of_error_rows} invalid lines skipped.\\nFor further details, run function with argument 'True'.\")\n",
    "    if num_of_error_rows > 0: # Adds a seperator line between warnings and output\n",
    "        print((\"=\" * 30) + \"\\n\")\n",
    "\n",
    "    print(f\"The average loan length is {average_loan_length:.0f} days.\")\n",
    "\n",
    "average_loan_period()\n",
    "\n"
   ],
   "id": "dda071add821e174",
   "outputs": [
    {
     "name": "stdout",
     "output_type": "stream",
     "text": [
      "WARNING: Row 10 skipped. Empty column detected.\n",
      "WARNING: Row 61 skipped. Non-int value in int column: (invalid literal for int() with base 10: 'abc')\n",
      "WARNING: Row 69 skipped. Empty column detected.\n",
      "WARNING: Row 73 skipped. Non-int value in int column: (invalid literal for int() with base 10: 'abc')\n",
      "WARNING: Row 99 skipped. Non-int value in int column: (invalid literal for int() with base 10: 'abc')\n",
      "WARNING: Row 100 skipped. Empty column detected.\n",
      "==============================\n",
      "\n",
      "The average loan length is 16 days.\n"
     ]
    }
   ],
   "execution_count": 44
  },
  {
   "metadata": {},
   "cell_type": "markdown",
   "source": "## Oppgave 5.4",
   "id": "b80cc29b41a70fe7"
  },
  {
   "metadata": {
    "collapsed": true
   },
   "cell_type": "code",
   "source": [
    "import csv\n",
    "\n",
    "def list_unreturned_books():\n",
    "    books_not_returned = []\n",
    "\n",
    "    with (open(\"bokutlån.csv\", \"r\", encoding='utf-8') as csv_file):\n",
    "        csv_reader = csv.DictReader(csv_file)\n",
    "        headers = csv_reader.fieldnames\n",
    "\n",
    "        for line in csv_reader:\n",
    "\n",
    "            # Empty field sanitizer\n",
    "            if any(line[col] is None or line[col] == \"\" for col in headers): # Worked with GPT for this line, to find a comparator that would match if ANY column returned None or blank\n",
    "                continue\n",
    "\n",
    "            # Value checker for integer-only columns\n",
    "            try:\n",
    "                int(line[\"Forlenget\"])\n",
    "                int(line[\"Låneperiode\"])\n",
    "            except ValueError as e:\n",
    "                print(f\"WARNING: Skipped line for {line['Fornavn']} {line[\"Etternavn\"]}. Invalid value in expected integer-column: ({e})\")\n",
    "                continue\n",
    "\n",
    "\n",
    "            if line[\"Tilbakelevert\"].strip().lower() == 'nei':\n",
    "                full_name = f\"{line[\"Fornavn\"]} {line[\"Etternavn\"]}\"\n",
    "\n",
    "                books_not_returned.append((line[\"Boktittel\"], full_name))\n",
    "\n",
    "    return books_not_returned\n",
    "\n",
    "\n",
    "list_unreturned_books()"
   ],
   "id": "391346f316183438",
   "outputs": [],
   "execution_count": null
  },
  {
   "metadata": {},
   "cell_type": "markdown",
   "source": "## Oppgave 5.5",
   "id": "c3e4f3428986bf59"
  },
  {
   "metadata": {
    "collapsed": true,
    "ExecuteTime": {
     "end_time": "2025-09-18T21:20:35.101879Z",
     "start_time": "2025-09-18T21:20:35.089379Z"
    }
   },
   "cell_type": "code",
   "source": [
    "import csv\n",
    "\n",
    "def get_most_borrowed_books():\n",
    "    borrowed_books = {}\n",
    "\n",
    "    with (open(\"bokutlån.csv\", \"r\", encoding='utf-8') as csv_file):\n",
    "        csv_reader = csv.DictReader(csv_file)\n",
    "        headers = csv_reader.fieldnames\n",
    "\n",
    "        for line in csv_reader:\n",
    "\n",
    "            # Empty field sanitizer\n",
    "            if any(line[col] is None or line[col] == \"\" for col in headers): # Worked with GPT for this line, to find a comparator that would match if ANY column returned None or blank\n",
    "                continue\n",
    "\n",
    "            # Value checker for integer-only columns\n",
    "            try:\n",
    "                int(line[\"Forlenget\"])\n",
    "                int(line[\"Låneperiode\"])\n",
    "            except ValueError as e:\n",
    "                print(f\"WARNING: Skipped line for {line['Fornavn']} {line[\"Etternavn\"]}. Invalid value in expected integer-column: ({e})\")\n",
    "                continue\n",
    "\n",
    "            borrowed_books[line[\"Boktittel\"]] = borrowed_books.get(line[\"Boktittel\"], 0) + 1 # Same logic utilized in 5.2\n",
    "\n",
    "    borrowed_books_sorted = {key: value for key, value in sorted(borrowed_books.items(), key=lambda book: (-book[1], book[0]))} # Used Stack Overflow to figure out how to negate only one of the values for correct sorting\n",
    "\n",
    "    return borrowed_books_sorted\n",
    "\n",
    "get_most_borrowed_books()\n",
    "\n"
   ],
   "id": "f0742e713ee34d12",
   "outputs": [
    {
     "name": "stdout",
     "output_type": "stream",
     "text": [
      "WARNING: Skipped line for Finn Hansen. Invalid value in expected integer-column: (invalid literal for int() with base 10: 'abc')\n",
      "WARNING: Skipped line for Ole Dalen. Invalid value in expected integer-column: (invalid literal for int() with base 10: 'abc')\n",
      "WARNING: Skipped line for Eva Olsen. Invalid value in expected integer-column: (invalid literal for int() with base 10: 'abc')\n"
     ]
    },
    {
     "data": {
      "text/plain": [
       "{'Stjerneskudd og skygger': 10,\n",
       " 'Havets hemmeligheter': 9,\n",
       " 'Kald krig i biblioteket': 6,\n",
       " 'Koden i glass': 6,\n",
       " 'Gåter fra gamle byer': 5,\n",
       " 'Historien vi glemte': 5,\n",
       " 'Voktere av tiden': 5,\n",
       " 'Etterklangen av et rop': 4,\n",
       " 'Eventyr for gamle sjeler': 4,\n",
       " 'Lærdommens lys': 4,\n",
       " 'Måneskinn på isen': 4,\n",
       " 'To liv i en natt': 4,\n",
       " 'Brennpunkt i natten': 3,\n",
       " 'Drømmenes landskap': 3,\n",
       " 'Mørke gater': 3,\n",
       " 'Robotenes etikk': 3,\n",
       " 'Dragens arving': 2,\n",
       " 'Frosne øyeblikk': 2,\n",
       " 'Prosessuell bevegelse': 2,\n",
       " 'Skjelett i biblioteket': 2,\n",
       " 'Tidløse skisser': 2,\n",
       " 'Løgn og løftebrudd': 1,\n",
       " 'Orden i kaos': 1,\n",
       " 'Rød skygge over byn': 1,\n",
       " 'Skillene i glass': 1,\n",
       " 'Veien tilbake': 1,\n",
       " 'Vitenskap og mennesket': 1}"
      ]
     },
     "execution_count": 26,
     "metadata": {},
     "output_type": "execute_result"
    }
   ],
   "execution_count": 26
  }
 ],
 "metadata": {
  "kernelspec": {
   "display_name": "Python 3",
   "language": "python",
   "name": "python3"
  },
  "language_info": {
   "codemirror_mode": {
    "name": "ipython",
    "version": 2
   },
   "file_extension": ".py",
   "mimetype": "text/x-python",
   "name": "python",
   "nbconvert_exporter": "python",
   "pygments_lexer": "ipython2",
   "version": "2.7.6"
  }
 },
 "nbformat": 4,
 "nbformat_minor": 5
}
