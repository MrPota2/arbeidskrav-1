{
 "cells": [
  {
   "metadata": {},
   "cell_type": "markdown",
   "source": "## Oppgave 5.1",
   "id": "2b22c7f87a601390"
  },
  {
   "cell_type": "code",
   "id": "initial_id",
   "metadata": {
    "collapsed": true
   },
   "source": [
    "import csv\n",
    "\n",
    "with (open(\"bokutlån.csv\", \"r\", encoding='utf-8') as csv_file):\n",
    "    csv_reader = csv.DictReader(csv_file)\n",
    "    headers = csv_reader.fieldnames\n",
    "    extensions = 0\n",
    "\n",
    "    for line in csv_reader:\n",
    "\n",
    "        # Empty field sanitizer\n",
    "        if any(line[col] is None or line[col] == \"\" for col in headers): # Worked with GPT for this line, to find a comparator that would match if ANY column returned None or blank\n",
    "            continue\n",
    "\n",
    "        # Value checker for integer-only columns\n",
    "        try:\n",
    "            int(line[\"Forlenget\"])\n",
    "            int(line[\"Låneperiode\"])\n",
    "        except ValueError as e:\n",
    "            print(f\"WARNING: Skipped line for {line['Fornavn']} {line[\"Etternavn\"]}. Invalid value in expected integer-column: ({e})\")\n",
    "            continue\n",
    "\n",
    "        # Extension summarizer:\n",
    "        extensions += int(line[\"Forlenget\"])\n",
    "\n",
    "    print(f\"Total extension days: {extensions}.\")\n",
    "\n"
   ],
   "outputs": [],
   "execution_count": null
  },
  {
   "metadata": {},
   "cell_type": "markdown",
   "source": "## Oppgave 5.2",
   "id": "dcdeffb83075a28c"
  },
  {
   "metadata": {
    "collapsed": true
   },
   "cell_type": "code",
   "source": [
    "import csv\n",
    "\n",
    "\n",
    "def books_per_genre():\n",
    "    counter = {}\n",
    "\n",
    "    with (open(\"bokutlån.csv\", \"r\", encoding='utf-8') as csv_file):\n",
    "        csv_reader = csv.DictReader(csv_file)\n",
    "        headers = csv_reader.fieldnames\n",
    "\n",
    "        for line in csv_reader:\n",
    "\n",
    "            # Empty field sanitizer\n",
    "            if any(line[col] is None or line[col] == \"\" for col in headers): # Worked with GPT for this line, to find a comparator that would match if ANY column returned None or blank\n",
    "                continue\n",
    "\n",
    "            # Value checker for integer-only columns\n",
    "            try:\n",
    "                int(line[\"Forlenget\"])\n",
    "                int(line[\"Låneperiode\"])\n",
    "            except ValueError as e:\n",
    "                print(f\"WARNING: Skipped line for {line['Fornavn']} {line[\"Etternavn\"]}. Invalid value in expected integer-column: ({e})\")\n",
    "                continue\n",
    "\n",
    "            # Counter logic\n",
    "            counter[line[\"Sjanger\"]] = counter.get(line[\"Sjanger\"], 0) + 1 # Returns count of genre if exists, or initializes at zero\n",
    "\n",
    "    for genre, amount in counter.items():\n",
    "        print(f\"{genre}: {amount}\")\n",
    "\n",
    "books_per_genre()\n",
    "\n"
   ],
   "id": "8791704968ec9e",
   "outputs": [],
   "execution_count": null
  },
  {
   "metadata": {},
   "cell_type": "markdown",
   "source": "## Oppgave 5.3",
   "id": "fbd93bbaf1a1efb0"
  },
  {
   "metadata": {
    "collapsed": true
   },
   "cell_type": "code",
   "source": [
    "import csv\n",
    "\n",
    "\n",
    "def average_loan_period():\n",
    "\n",
    "\n",
    "    with (open(\"bokutlån.csv\", \"r\", encoding='utf-8') as csv_file):\n",
    "        csv_reader = csv.DictReader(csv_file)\n",
    "        headers = csv_reader.fieldnames\n",
    "\n",
    "        length_of_loan = []\n",
    "\n",
    "        for line in csv_reader:\n",
    "\n",
    "            # Empty field sanitizer\n",
    "            if any(line[col] is None or line[col] == \"\" for col in headers): # Worked with GPT for this line, to find a comparator that would match if ANY column returned None or blank\n",
    "                continue\n",
    "\n",
    "            # Value checker for integer-only columns\n",
    "            try:\n",
    "                int(line[\"Forlenget\"])\n",
    "                int(line[\"Låneperiode\"])\n",
    "            except ValueError as e:\n",
    "                print(f\"WARNING: Skipped line for {line['Fornavn']} {line[\"Etternavn\"]}. Invalid value in expected integer-column: ({e})\")\n",
    "                continue\n",
    "\n",
    "            total_loan_length = int(line[\"Forlenget\"]) + int(line[\"Låneperiode\"])\n",
    "            length_of_loan.append(total_loan_length)\n",
    "\n",
    "        average_loan_length = sum(length_of_loan) / len(length_of_loan)\n",
    "\n",
    "    print(f\"The average loan length is {average_loan_length:.0f} days.\")\n",
    "\n",
    "\n",
    "\n",
    "\n",
    "\n",
    "average_loan_period()\n",
    "\n"
   ],
   "id": "dda071add821e174",
   "outputs": [],
   "execution_count": null
  },
  {
   "metadata": {},
   "cell_type": "markdown",
   "source": "## Oppgave 5.4",
   "id": "b80cc29b41a70fe7"
  },
  {
   "metadata": {
    "collapsed": true
   },
   "cell_type": "code",
   "source": [
    "import csv\n",
    "\n",
    "def list_unreturned_books():\n",
    "    books_not_returned = []\n",
    "\n",
    "    with (open(\"bokutlån.csv\", \"r\", encoding='utf-8') as csv_file):\n",
    "        csv_reader = csv.DictReader(csv_file)\n",
    "        headers = csv_reader.fieldnames\n",
    "\n",
    "        for line in csv_reader:\n",
    "\n",
    "            # Empty field sanitizer\n",
    "            if any(line[col] is None or line[col] == \"\" for col in headers): # Worked with GPT for this line, to find a comparator that would match if ANY column returned None or blank\n",
    "                continue\n",
    "\n",
    "            # Value checker for integer-only columns\n",
    "            try:\n",
    "                int(line[\"Forlenget\"])\n",
    "                int(line[\"Låneperiode\"])\n",
    "            except ValueError as e:\n",
    "                print(f\"WARNING: Skipped line for {line['Fornavn']} {line[\"Etternavn\"]}. Invalid value in expected integer-column: ({e})\")\n",
    "                continue\n",
    "\n",
    "\n",
    "            if line[\"Tilbakelevert\"].strip().lower() == 'nei':\n",
    "                full_name = f\"{line[\"Fornavn\"]} {line[\"Etternavn\"]}\"\n",
    "\n",
    "                books_not_returned.append((line[\"Boktittel\"], full_name))\n",
    "\n",
    "    return books_not_returned\n",
    "\n",
    "\n",
    "list_unreturned_books()"
   ],
   "id": "391346f316183438",
   "outputs": [],
   "execution_count": null
  },
  {
   "metadata": {},
   "cell_type": "markdown",
   "source": "## Oppgave 5.5",
   "id": "c3e4f3428986bf59"
  },
  {
   "metadata": {
    "collapsed": true,
    "ExecuteTime": {
     "end_time": "2025-09-18T21:05:31.697184Z",
     "start_time": "2025-09-18T21:05:31.680984Z"
    }
   },
   "cell_type": "code",
   "source": [
    "import csv\n",
    "\n",
    "def get_most_borrowed_books():\n",
    "    borrowed_books = {}\n",
    "\n",
    "    with (open(\"bokutlån.csv\", \"r\", encoding='utf-8') as csv_file):\n",
    "        csv_reader = csv.DictReader(csv_file)\n",
    "        headers = csv_reader.fieldnames\n",
    "\n",
    "        for line in csv_reader:\n",
    "\n",
    "            # Empty field sanitizer\n",
    "            if any(line[col] is None or line[col] == \"\" for col in headers): # Worked with GPT for this line, to find a comparator that would match if ANY column returned None or blank\n",
    "                continue\n",
    "\n",
    "            # Value checker for integer-only columns\n",
    "            try:\n",
    "                int(line[\"Forlenget\"])\n",
    "                int(line[\"Låneperiode\"])\n",
    "            except ValueError as e:\n",
    "                print(f\"WARNING: Skipped line for {line['Fornavn']} {line[\"Etternavn\"]}. Invalid value in expected integer-column: ({e})\")\n",
    "                continue\n",
    "\n",
    "            borrowed_books[line[\"Boktittel\"]] = borrowed_books.get(line[\"Boktittel\"], 0) + 1 # Same logic utilized in 5.2\n",
    "\n",
    "    return borrowed_books\n",
    "\n",
    "get_most_borrowed_books()\n",
    "\n"
   ],
   "id": "f0742e713ee34d12",
   "outputs": [
    {
     "name": "stdout",
     "output_type": "stream",
     "text": [
      "WARNING: Skipped line for Finn Hansen. Invalid value in expected integer-column: (invalid literal for int() with base 10: 'abc')\n",
      "WARNING: Skipped line for Ole Dalen. Invalid value in expected integer-column: (invalid literal for int() with base 10: 'abc')\n",
      "WARNING: Skipped line for Eva Olsen. Invalid value in expected integer-column: (invalid literal for int() with base 10: 'abc')\n"
     ]
    },
    {
     "data": {
      "text/plain": [
       "{'Havets hemmeligheter': 9,\n",
       " 'Mørke gater': 3,\n",
       " 'Vitenskap og mennesket': 1,\n",
       " 'Dragens arving': 2,\n",
       " 'Koden i glass': 6,\n",
       " 'Eventyr for gamle sjeler': 4,\n",
       " 'Historien vi glemte': 5,\n",
       " 'Skjelett i biblioteket': 2,\n",
       " 'Stjerneskudd og skygger': 10,\n",
       " 'Brennpunkt i natten': 3,\n",
       " 'Lærdommens lys': 4,\n",
       " 'Voktere av tiden': 5,\n",
       " 'Gåter fra gamle byer': 5,\n",
       " 'Kald krig i biblioteket': 6,\n",
       " 'Tidløse skisser': 2,\n",
       " 'Robotenes etikk': 3,\n",
       " 'Drømmenes landskap': 3,\n",
       " 'Løgn og løftebrudd': 1,\n",
       " 'Prosessuell bevegelse': 2,\n",
       " 'To liv i en natt': 4,\n",
       " 'Rød skygge over byn': 1,\n",
       " 'Veien tilbake': 1,\n",
       " 'Orden i kaos': 1,\n",
       " 'Skillene i glass': 1,\n",
       " 'Etterklangen av et rop': 4,\n",
       " 'Måneskinn på isen': 4,\n",
       " 'Frosne øyeblikk': 2}"
      ]
     },
     "execution_count": 18,
     "metadata": {},
     "output_type": "execute_result"
    }
   ],
   "execution_count": 18
  }
 ],
 "metadata": {
  "kernelspec": {
   "display_name": "Python 3",
   "language": "python",
   "name": "python3"
  },
  "language_info": {
   "codemirror_mode": {
    "name": "ipython",
    "version": 2
   },
   "file_extension": ".py",
   "mimetype": "text/x-python",
   "name": "python",
   "nbconvert_exporter": "python",
   "pygments_lexer": "ipython2",
   "version": "2.7.6"
  }
 },
 "nbformat": 4,
 "nbformat_minor": 5
}
