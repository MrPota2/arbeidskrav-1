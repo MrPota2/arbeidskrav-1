{
 "cells": [
  {
   "metadata": {
    "collapsed": true
   },
   "cell_type": "markdown",
   "source": "## Oppgave 2.1",
   "id": "e66848b2d16d2227"
  },
  {
   "metadata": {},
   "cell_type": "code",
   "source": [
    "import datetime\n",
    "\n",
    "day = int(input(\"Enter day of month: \"))\n",
    "month = int(input(\"Enter month: \"))\n",
    "year = int(input(\"Enter year: \"))\n",
    "\n",
    "try:\n",
    "    dato = datetime.date(year, month, day)\n",
    "except ValueError:\n",
    "    print(\"Selected date is invalid.\\nPlease try again.\")\n",
    "else:\n",
    "    print(f\"The date '{dato}' is valid! :)\")"
   ],
   "id": "7df0567f1ae6921b",
   "outputs": [],
   "execution_count": null
  }
 ],
 "metadata": {
  "kernelspec": {
   "display_name": "Python 3",
   "language": "python",
   "name": "python3"
  },
  "language_info": {
   "codemirror_mode": {
    "name": "ipython",
    "version": 2
   },
   "file_extension": ".py",
   "mimetype": "text/x-python",
   "name": "python",
   "nbconvert_exporter": "python",
   "pygments_lexer": "ipython2",
   "version": "2.7.6"
  }
 },
 "nbformat": 4,
 "nbformat_minor": 5
}
