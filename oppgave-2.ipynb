{
 "cells": [
  {
   "metadata": {
    "collapsed": true
   },
   "cell_type": "markdown",
   "source": "## Oppgave 2.1",
   "id": "e66848b2d16d2227"
  },
  {
   "metadata": {
    "ExecuteTime": {
     "end_time": "2025-09-24T19:55:02.919531Z",
     "start_time": "2025-09-24T19:54:57.436336Z"
    }
   },
   "cell_type": "code",
   "source": [
    "import datetime\n",
    "\n",
    "day = int(input(\"Enter day of month: \"))\n",
    "month = int(input(\"Enter month: \"))\n",
    "year = int(input(\"Enter year: \"))\n",
    "\n",
    "try:\n",
    "    dato = datetime.date(year, month, day)\n",
    "except ValueError:\n",
    "    print(\"Selected date is invalid.\\nPlease try again.\")\n",
    "else:\n",
    "    print(f\"The date '{dato}' is valid! :)\")"
   ],
   "id": "7df0567f1ae6921b",
   "outputs": [
    {
     "name": "stdout",
     "output_type": "stream",
     "text": [
      "Selected date is invalid.\n",
      "Please try again.\n"
     ]
    }
   ],
   "execution_count": 3
  },
  {
   "metadata": {},
   "cell_type": "markdown",
   "source": "## Oppgave 2.2 + 2.3",
   "id": "6145d23fc6f20ee"
  },
  {
   "metadata": {
    "ExecuteTime": {
     "end_time": "2025-09-24T20:00:44.313048Z",
     "start_time": "2025-09-24T20:00:44.307766Z"
    }
   },
   "cell_type": "code",
   "source": [
    "original_list = [\"Cecilie\", 28, \"Bjørn\", 30, \"Tor\", 24, \"Anna\", 25]\n",
    "\n",
    "name_list = original_list[::2]\n",
    "age_list = original_list[1::2]\n",
    "\n",
    "# vvv 2.3 vvv\n",
    "\n",
    "person_dict = {}\n",
    "\n",
    "for person in range(0, len(name_list)):\n",
    "    person_dict[name_list[person]] = age_list[person]\n",
    "\n",
    "for name, age in person_dict.items():\n",
    "    print(f\"{name} er {age} år.\")\n",
    "\n",
    "#TODO: Hvor er 2.4/2.5?"
   ],
   "id": "ee7ee489f0dd4bcb",
   "outputs": [
    {
     "name": "stdout",
     "output_type": "stream",
     "text": [
      "Cecilie er 28 år.\n",
      "Bjørn er 30 år.\n",
      "Tor er 24 år.\n",
      "Anna er 25 år.\n"
     ]
    }
   ],
   "execution_count": 4
  },
  {
   "metadata": {},
   "cell_type": "markdown",
   "source": "## Oppgave 2.6",
   "id": "70df8e0c10562e68"
  },
  {
   "metadata": {},
   "cell_type": "code",
   "source": [
    "original_list = [\"Cecilie\", 28, \"Bjørn\", 30, \"Tor\", 24, \"Anna\", 25]\n",
    "\n",
    "name_list = original_list[::2]\n",
    "age_list = original_list[1::2]\n",
    "\n",
    "dict_list = []\n",
    "\n",
    "for person in range(len(name_list)):\n",
    "    person_dict = {\n",
    "        \"navn\": name_list[person],\n",
    "        \"alder\": age_list[person]\n",
    "    }\n",
    "    dict_list.append(person_dict)\n",
    "\n",
    "print(dict_list)"
   ],
   "id": "236f5d422d1e9c6e",
   "outputs": [],
   "execution_count": null
  }
 ],
 "metadata": {
  "kernelspec": {
   "display_name": "Python 3",
   "language": "python",
   "name": "python3"
  },
  "language_info": {
   "codemirror_mode": {
    "name": "ipython",
    "version": 2
   },
   "file_extension": ".py",
   "mimetype": "text/x-python",
   "name": "python",
   "nbconvert_exporter": "python",
   "pygments_lexer": "ipython2",
   "version": "2.7.6"
  }
 },
 "nbformat": 4,
 "nbformat_minor": 5
}
