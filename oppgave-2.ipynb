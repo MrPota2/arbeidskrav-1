{
 "cells": [
  {
   "metadata": {
    "collapsed": true
   },
   "cell_type": "markdown",
   "source": "## Oppgave 2.1",
   "id": "e66848b2d16d2227"
  },
  {
   "metadata": {},
   "cell_type": "code",
   "source": [
    "import datetime\n",
    "\n",
    "day = int(input(\"Enter day of month: \"))\n",
    "month = int(input(\"Enter month: \"))\n",
    "year = int(input(\"Enter year: \"))\n",
    "\n",
    "try:\n",
    "    dato = datetime.date(year, month, day)\n",
    "except ValueError:\n",
    "    print(\"Selected date is invalid.\\nPlease try again.\")\n",
    "else:\n",
    "    print(f\"The date '{dato}' is valid! :)\")"
   ],
   "id": "7df0567f1ae6921b",
   "outputs": [],
   "execution_count": null
  },
  {
   "metadata": {},
   "cell_type": "markdown",
   "source": "## Oppgave 2.2 + 2.3",
   "id": "6145d23fc6f20ee"
  },
  {
   "metadata": {},
   "cell_type": "code",
   "source": [
    "original_list = [\"Cecilie\", 28, \"Bjørn\", 30, \"Tor\", 24, \"Anna\", 25]\n",
    "\n",
    "name_list = original_list[::2]\n",
    "age_list = original_list[1::2]\n",
    "\n",
    "# print(f\"name_list: {name_list}\")\n",
    "# print(f\"age_list: {age_list}\")\n",
    "\n",
    "# vvv 2.3 vvv\n",
    "\n",
    "person_dict = {}\n",
    "\n",
    "for person in range(0, len(name_list)):\n",
    "    person_dict[name_list[person]] = age_list[person]\n",
    "\n",
    "for name, age in person_dict.items():\n",
    "    print(f\"{name} er {age} år.\")\n"
   ],
   "id": "ee7ee489f0dd4bcb",
   "outputs": [],
   "execution_count": null
  },
  {
   "metadata": {},
   "cell_type": "markdown",
   "source": "## Oppgave 2.6",
   "id": "70df8e0c10562e68"
  },
  {
   "metadata": {
    "ExecuteTime": {
     "end_time": "2025-09-12T19:30:11.246293Z",
     "start_time": "2025-09-12T19:30:11.238633Z"
    }
   },
   "cell_type": "code",
   "source": [
    "original_list = [\"Cecilie\", 28, \"Bjørn\", 30, \"Tor\", 24, \"Anna\", 25]\n",
    "\n",
    "name_list = original_list[::2]\n",
    "age_list = original_list[1::2]\n",
    "\n",
    "dict_list = []\n",
    "\n",
    "for person in range(len(name_list)):\n",
    "    person_dict = {\n",
    "        \"navn\": name_list[person],\n",
    "        \"alder\": age_list[person]\n",
    "    }\n",
    "    dict_list.append(person_dict)\n",
    "\n",
    "print(dict_list)"
   ],
   "id": "236f5d422d1e9c6e",
   "outputs": [
    {
     "name": "stdout",
     "output_type": "stream",
     "text": [
      "[{'navn': 'Cecilie', 'alder': 28}, {'navn': 'Bjørn', 'alder': 30}, {'navn': 'Tor', 'alder': 24}, {'navn': 'Anna', 'alder': 25}]\n"
     ]
    }
   ],
   "execution_count": 28
  }
 ],
 "metadata": {
  "kernelspec": {
   "display_name": "Python 3",
   "language": "python",
   "name": "python3"
  },
  "language_info": {
   "codemirror_mode": {
    "name": "ipython",
    "version": 2
   },
   "file_extension": ".py",
   "mimetype": "text/x-python",
   "name": "python",
   "nbconvert_exporter": "python",
   "pygments_lexer": "ipython2",
   "version": "2.7.6"
  }
 },
 "nbformat": 4,
 "nbformat_minor": 5
}
