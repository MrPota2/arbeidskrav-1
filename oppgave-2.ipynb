{
 "cells": [
  {
   "metadata": {
    "collapsed": true
   },
   "cell_type": "markdown",
   "source": "## Oppgave 2.1",
   "id": "e66848b2d16d2227"
  },
  {
   "metadata": {},
   "cell_type": "code",
   "source": [
    "import datetime\n",
    "\n",
    "day = int(input(\"Enter day of month: \"))\n",
    "month = int(input(\"Enter month: \"))\n",
    "year = int(input(\"Enter year: \"))\n",
    "\n",
    "try:\n",
    "    dato = datetime.date(year, month, day)\n",
    "except ValueError:\n",
    "    print(\"Selected date is invalid.\\nPlease try again.\")\n",
    "else:\n",
    "    print(f\"The date '{dato}' is valid! :)\")"
   ],
   "id": "7df0567f1ae6921b",
   "outputs": [],
   "execution_count": null
  },
  {
   "metadata": {},
   "cell_type": "markdown",
   "source": "## Oppgave 2.2 + 2.3",
   "id": "6145d23fc6f20ee"
  },
  {
   "metadata": {},
   "cell_type": "code",
   "source": [
    "original_list = [\"Cecilie\", 28, \"Bjørn\", 30, \"Tor\", 24, \"Anna\", 25]\n",
    "\n",
    "name_list = original_list[::2]\n",
    "age_list = original_list[1::2]\n",
    "\n",
    "# print(f\"name_list: {name_list}\")\n",
    "# print(f\"age_list: {age_list}\")\n",
    "\n",
    "# vvv 2.3 vvv\n",
    "\n",
    "person_dict = {}\n",
    "\n",
    "for person in range(0, len(name_list)):\n",
    "    person_dict[name_list[person]] = age_list[person]\n",
    "\n",
    "for name, age in person_dict.items():\n",
    "    print(f\"{name} er {age} år.\")\n"
   ],
   "id": "ee7ee489f0dd4bcb",
   "outputs": [],
   "execution_count": null
  },
  {
   "metadata": {},
   "cell_type": "markdown",
   "source": "## Oppgave 2.6",
   "id": "70df8e0c10562e68"
  },
  {
   "metadata": {
    "ExecuteTime": {
     "end_time": "2025-09-12T19:25:25.839334Z",
     "start_time": "2025-09-12T19:25:25.811475Z"
    }
   },
   "cell_type": "code",
   "source": [
    "original_list = [\"Cecilie\", 28, \"Bjørn\", 30, \"Tor\", 24, \"Anna\", 25]\n",
    "\n",
    "name_list = original_list[::2]\n",
    "age_list = original_list[1::2]\n",
    "\n",
    "dict_list = []\n",
    "\n",
    "for person in range(len(name_list)):\n",
    "    person_dict = {}\n",
    "    person_dict[\"navn\"] = name_list[person]\n",
    "    person_dict[\"alder\"] = age_list[person]\n",
    "    dict_list[person] = person_dict\n",
    "\n",
    "print(dict_list)"
   ],
   "id": "236f5d422d1e9c6e",
   "outputs": [
    {
     "ename": "IndexError",
     "evalue": "list assignment index out of range",
     "output_type": "error",
     "traceback": [
      "\u001B[31m---------------------------------------------------------------------------\u001B[39m",
      "\u001B[31mIndexError\u001B[39m                                Traceback (most recent call last)",
      "\u001B[36mCell\u001B[39m\u001B[36m \u001B[39m\u001B[32mIn[27]\u001B[39m\u001B[32m, line 12\u001B[39m\n\u001B[32m     10\u001B[39m     person_dict[\u001B[33m\"\u001B[39m\u001B[33mnavn\u001B[39m\u001B[33m\"\u001B[39m] = name_list[person]\n\u001B[32m     11\u001B[39m     person_dict[\u001B[33m\"\u001B[39m\u001B[33malder\u001B[39m\u001B[33m\"\u001B[39m] = age_list[person]\n\u001B[32m---> \u001B[39m\u001B[32m12\u001B[39m     \u001B[43mdict_list\u001B[49m\u001B[43m[\u001B[49m\u001B[43mperson\u001B[49m\u001B[43m]\u001B[49m = person_dict\n\u001B[32m     14\u001B[39m \u001B[38;5;28mprint\u001B[39m(dict_list)\n",
      "\u001B[31mIndexError\u001B[39m: list assignment index out of range"
     ]
    }
   ],
   "execution_count": 27
  },
  {
   "metadata": {},
   "cell_type": "code",
   "outputs": [],
   "execution_count": null,
   "source": "",
   "id": "3fc71ee8547c714f"
  }
 ],
 "metadata": {
  "kernelspec": {
   "display_name": "Python 3",
   "language": "python",
   "name": "python3"
  },
  "language_info": {
   "codemirror_mode": {
    "name": "ipython",
    "version": 2
   },
   "file_extension": ".py",
   "mimetype": "text/x-python",
   "name": "python",
   "nbconvert_exporter": "python",
   "pygments_lexer": "ipython2",
   "version": "2.7.6"
  }
 },
 "nbformat": 4,
 "nbformat_minor": 5
}
