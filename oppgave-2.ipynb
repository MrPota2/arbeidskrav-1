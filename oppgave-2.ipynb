{
 "cells": [
  {
   "metadata": {
    "collapsed": true
   },
   "cell_type": "markdown",
   "source": "## Oppgave 2.1",
   "id": "e66848b2d16d2227"
  },
  {
   "metadata": {},
   "cell_type": "code",
   "source": [
    "import datetime\n",
    "\n",
    "day = int(input(\"Enter day of month: \"))\n",
    "month = int(input(\"Enter month: \"))\n",
    "year = int(input(\"Enter year: \"))\n",
    "\n",
    "try:\n",
    "    dato = datetime.date(year, month, day)\n",
    "except ValueError:\n",
    "    print(\"Selected date is invalid.\\nPlease try again.\")\n",
    "else:\n",
    "    print(f\"The date '{dato}' is valid! :)\")"
   ],
   "id": "7df0567f1ae6921b",
   "outputs": [],
   "execution_count": null
  },
  {
   "metadata": {},
   "cell_type": "markdown",
   "source": "## Oppgave 2.2",
   "id": "6145d23fc6f20ee"
  },
  {
   "metadata": {
    "ExecuteTime": {
     "end_time": "2025-09-12T18:45:16.437886Z",
     "start_time": "2025-09-12T18:45:16.431196Z"
    }
   },
   "cell_type": "code",
   "source": [
    "list = [\"Cecilie\", 28, \"Bjørn\", 30, \"Tor\", 24, \"Anna\", 25]\n",
    "\n",
    "name_list = list[::2]\n",
    "age_list = list[1::2]\n",
    "\n",
    "print(name_list)\n",
    "print(age_list)"
   ],
   "id": "ee7ee489f0dd4bcb",
   "outputs": [
    {
     "name": "stdout",
     "output_type": "stream",
     "text": [
      "['Cecilie', 'Bjørn', 'Tor', 'Anna']\n",
      "[28, 30, 24, 25]\n"
     ]
    }
   ],
   "execution_count": 18
  }
 ],
 "metadata": {
  "kernelspec": {
   "display_name": "Python 3",
   "language": "python",
   "name": "python3"
  },
  "language_info": {
   "codemirror_mode": {
    "name": "ipython",
    "version": 2
   },
   "file_extension": ".py",
   "mimetype": "text/x-python",
   "name": "python",
   "nbconvert_exporter": "python",
   "pygments_lexer": "ipython2",
   "version": "2.7.6"
  }
 },
 "nbformat": 4,
 "nbformat_minor": 5
}
